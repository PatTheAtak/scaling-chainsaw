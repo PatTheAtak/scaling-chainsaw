{
  "nbformat": 4,
  "nbformat_minor": 0,
  "metadata": {
    "colab": {
      "name": "Vectorization-Net-Input.ipynb",
      "provenance": [],
      "authorship_tag": "ABX9TyOVRGOlkCFwY9u9ggmeUg7c",
      "include_colab_link": true
    },
    "kernelspec": {
      "name": "python3",
      "display_name": "Python 3"
    },
    "language_info": {
      "name": "python"
    }
  },
  "cells": [
    {
      "cell_type": "markdown",
      "metadata": {
        "id": "view-in-github",
        "colab_type": "text"
      },
      "source": [
        "<a href=\"https://colab.research.google.com/github/PatTheAtak/scaling-chainsaw/blob/master/Vectorization_Net_Input.ipynb\" target=\"_parent\"><img src=\"https://colab.research.google.com/assets/colab-badge.svg\" alt=\"Open In Colab\"/></a>"
      ]
    },
    {
      "cell_type": "markdown",
      "metadata": {
        "id": "JBEvRrAL94If"
      },
      "source": [
        "# DIFFERENT METHODS OF CALCULATING NET INPUT & SPEED COMPARISON"
      ]
    },
    {
      "cell_type": "code",
      "metadata": {
        "id": "BBvR2Auo9yZL"
      },
      "source": [
        "import numpy as np"
      ],
      "execution_count": 1,
      "outputs": []
    },
    {
      "cell_type": "code",
      "metadata": {
        "id": "jNQmTE-Y-LoJ"
      },
      "source": [
        "# Calculating the net input\n",
        "#\n",
        "# z = x * w + b\n",
        "\n",
        "def forloop(x, w):\n",
        "    z = 0.\n",
        "    for i in range(len(x)):\n",
        "        z += x[i] * w[i]\n",
        "    return z\n",
        "\n",
        "\n",
        "def listcomprehension(x, w):\n",
        "    return sum(x_i*w_i for x_i, w_i in zip(x, w))\n",
        "\n",
        "\n",
        "def vectorized(x, w):\n",
        "    return x_vec.dot(w_vec)\n",
        "\n",
        "\n",
        "x, w = np.random.rand(100000), np.random.rand(100000)\n",
        "x_vec, w_vec = np.array(x), np.array(w)"
      ],
      "execution_count": 2,
      "outputs": []
    },
    {
      "cell_type": "code",
      "metadata": {
        "colab": {
          "base_uri": "https://localhost:8080/"
        },
        "id": "b47juufAAKiH",
        "outputId": "12e10aff-1632-42fd-847d-e8583e933a09"
      },
      "source": [
        "%timeit -r 100 -n 10 forloop(x, w)"
      ],
      "execution_count": 3,
      "outputs": [
        {
          "output_type": "stream",
          "text": [
            "10 loops, best of 100: 49.2 ms per loop\n"
          ],
          "name": "stdout"
        }
      ]
    },
    {
      "cell_type": "code",
      "metadata": {
        "colab": {
          "base_uri": "https://localhost:8080/"
        },
        "id": "HQxBwSuKANF7",
        "outputId": "4824b260-99e6-41d9-f926-153dc0d5db42"
      },
      "source": [
        "%timeit -r 100 -n 10 listcomprehension(x, w)"
      ],
      "execution_count": 4,
      "outputs": [
        {
          "output_type": "stream",
          "text": [
            "10 loops, best of 100: 42.4 ms per loop\n"
          ],
          "name": "stdout"
        }
      ]
    },
    {
      "cell_type": "code",
      "metadata": {
        "colab": {
          "base_uri": "https://localhost:8080/"
        },
        "id": "4CFh0QOqAPD6",
        "outputId": "653e0d20-34ca-4c2f-8074-fe0467992e31"
      },
      "source": [
        "%timeit -r 100 -n 10 vectorized(x_vec, w_vec)"
      ],
      "execution_count": 5,
      "outputs": [
        {
          "output_type": "stream",
          "text": [
            "The slowest run took 15.72 times longer than the fastest. This could mean that an intermediate result is being cached.\n",
            "10 loops, best of 100: 50.7 µs per loop\n"
          ],
          "name": "stdout"
        }
      ]
    }
  ]
}